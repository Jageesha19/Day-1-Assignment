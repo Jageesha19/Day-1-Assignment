{
 "cells": [
  {
   "cell_type": "markdown",
   "metadata": {},
   "source": [
    "# a= (2x+5/x^2+5x+6)"
   ]
  },
  {
   "cell_type": "code",
   "execution_count": 8,
   "metadata": {},
   "outputs": [
    {
     "name": "stdout",
     "output_type": "stream",
     "text": [
      "Enter the number:5\n",
      "Result is: 0.26785714285714285\n"
     ]
    }
   ],
   "source": [
    "x=int(input(\"Enter the number:\"))\n",
    "\n",
    "y=2*x+5\n",
    "z=x*x+5*x+6\n",
    "a=y/z\n",
    "print(\"Result is:\", a)\n",
    "\n"
   ]
  },
  {
   "cell_type": "markdown",
   "metadata": {},
   "source": [
    "# b=(x^2+5x+6/2x+5)"
   ]
  },
  {
   "cell_type": "code",
   "execution_count": 9,
   "metadata": {},
   "outputs": [
    {
     "name": "stdout",
     "output_type": "stream",
     "text": [
      "Enter the number5\n",
      "Result is: 3.7333333333333334\n"
     ]
    }
   ],
   "source": [
    "x=int(input(\"Enter the number\"))\n",
    "y=x*x+5*x+6\n",
    "z=2*x+5\n",
    "b=y/z\n",
    "print(\"Result is:\",b)"
   ]
  },
  {
   "cell_type": "markdown",
   "metadata": {},
   "source": [
    "# c=(2x-3)(x+9)"
   ]
  },
  {
   "cell_type": "code",
   "execution_count": 10,
   "metadata": {},
   "outputs": [
    {
     "name": "stdout",
     "output_type": "stream",
     "text": [
      "Enter the number:5\n",
      "Result is: 98\n"
     ]
    }
   ],
   "source": [
    "x=int(input(\"Enter the number:\"))\n",
    "y=2*x-3\n",
    "z=x+9\n",
    "c=y*z\n",
    "print(\"Result is:\",c)"
   ]
  },
  {
   "cell_type": "code",
   "execution_count": 3,
   "metadata": {},
   "outputs": [
    {
     "ename": "NameError",
     "evalue": "name 'x' is not defined",
     "output_type": "error",
     "traceback": [
      "\u001b[1;31m---------------------------------------------------------------------------\u001b[0m",
      "\u001b[1;31mNameError\u001b[0m                                 Traceback (most recent call last)",
      "\u001b[1;32m<ipython-input-3-ba92c4f0315d>\u001b[0m in \u001b[0;36m<module>\u001b[1;34m\u001b[0m\n\u001b[0;32m      3\u001b[0m \u001b[0mn\u001b[0m\u001b[1;33m=\u001b[0m\u001b[1;36m0\u001b[0m\u001b[1;33m\u001b[0m\u001b[1;33m\u001b[0m\u001b[0m\n\u001b[0;32m      4\u001b[0m \u001b[1;32mwhile\u001b[0m \u001b[0mn\u001b[0m\u001b[1;33m<=\u001b[0m\u001b[1;36m5\u001b[0m\u001b[1;33m:\u001b[0m\u001b[1;33m\u001b[0m\u001b[1;33m\u001b[0m\u001b[0m\n\u001b[1;32m----> 5\u001b[1;33m     \u001b[1;32mif\u001b[0m \u001b[0mx\u001b[0m\u001b[1;33m!=\u001b[0m\u001b[0mpavs\u001b[0m \u001b[1;32mand\u001b[0m \u001b[0my\u001b[0m\u001b[1;33m!=\u001b[0m\u001b[0mpwd\u001b[0m\u001b[1;33m:\u001b[0m\u001b[1;33m\u001b[0m\u001b[1;33m\u001b[0m\u001b[0m\n\u001b[0m\u001b[0;32m      6\u001b[0m         \u001b[0mx\u001b[0m\u001b[1;33m=\u001b[0m\u001b[0minput\u001b[0m\u001b[1;33m(\u001b[0m\u001b[1;34m\"enter user\"\u001b[0m\u001b[1;33m)\u001b[0m\u001b[1;33m\u001b[0m\u001b[1;33m\u001b[0m\u001b[0m\n\u001b[0;32m      7\u001b[0m         \u001b[0my\u001b[0m\u001b[1;33m=\u001b[0m\u001b[0minput\u001b[0m\u001b[1;33m(\u001b[0m\u001b[1;34m\"enter pwd\"\u001b[0m\u001b[1;33m)\u001b[0m\u001b[1;33m\u001b[0m\u001b[1;33m\u001b[0m\u001b[0m\n",
      "\u001b[1;31mNameError\u001b[0m: name 'x' is not defined"
     ]
    }
   ],
   "source": [
    "un=\"pavs\"\n",
    "pwd=\"pav\"\n",
    "n=0\n",
    "while n<=5:\n",
    "    if x!=pavs and y!=pwd:\n",
    "        x=input(\"enter user\")\n",
    "        y=input(\"enter pwd\")\n",
    "    else:\n",
    "        print(\"login succesful\")\n",
    "    n+= 1\n",
    "print(\"account blocked\")\n",
    "        "
   ]
  },
  {
   "cell_type": "code",
   "execution_count": 28,
   "metadata": {},
   "outputs": [
    {
     "name": "stdout",
     "output_type": "stream",
     "text": [
      "Enter username: JAG\n",
      "Enter password: HDIU\n",
      "incrct user\n",
      "enter usernameDH\n",
      "incrct user\n",
      "enter usernameJDIF\n",
      "incrct user\n",
      "enter usernameJDIEJ\n",
      "incrct user\n",
      "enter usernameJDJI\n",
      "incrct user\n",
      "enter usernameJI\n",
      "incrct user\n",
      "enter usernameJH\n",
      "Try again after 24 hours, Temporaily your account has been blocked(due to many attempts)\n"
     ]
    }
   ],
   "source": [
    "count=0\n",
    "i=0\n",
    "username=input('Enter username: ')\n",
    "password=input('Enter password: ')\n",
    "while count<=5:\n",
    "    if password=='jag' and username=='jaggu':\n",
    "        print(' login Success')\n",
    "        break;\n",
    "        \n",
    "    else:\n",
    "        while i<=count:\n",
    "            if username!='jaggu':\n",
    "                print(\"incrct user\")\n",
    "                username=input(\"enter username\")\n",
    "                i+= 1\n",
    "            else:\n",
    "                print(\"incrct pwd\")\n",
    "                password=input(\"enter pwd\")\n",
    "                i+= 1\n",
    "                \n",
    "        \n",
    "    count+=1\n",
    "else:\n",
    "   print(\"Try again after 24 hours, Temporaily your account has been blocked(due to many attempts)\")"
   ]
  },
  {
   "cell_type": "markdown",
   "metadata": {},
   "source": []
  },
  {
   "cell_type": "code",
   "execution_count": null,
   "metadata": {},
   "outputs": [],
   "source": []
  }
 ],
 "metadata": {
  "kernelspec": {
   "display_name": "Python 3",
   "language": "python",
   "name": "python3"
  },
  "language_info": {
   "codemirror_mode": {
    "name": "ipython",
    "version": 3
   },
   "file_extension": ".py",
   "mimetype": "text/x-python",
   "name": "python",
   "nbconvert_exporter": "python",
   "pygments_lexer": "ipython3",
   "version": "3.8.5"
  }
 },
 "nbformat": 4,
 "nbformat_minor": 4
}
